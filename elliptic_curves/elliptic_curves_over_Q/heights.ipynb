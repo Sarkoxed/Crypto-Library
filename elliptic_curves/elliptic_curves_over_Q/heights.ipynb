{
 "cells": [
  {
   "cell_type": "markdown",
   "metadata": {},
   "source": [
    "# Heights\n",
    "\n",
    "- $\\hat{h}(P) \\ge 0$ \n",
    "- $\\exists c_0: |\\frac{1}{2} h(P) - \\hat{h}(P)| \\le c_0$\n",
    "- $c: |P : \\hat{h}(P) \\le c| < \\inf$\n",
    "- $\\hat{h}(mP) = m^2 \\hat{h}(P)$\n",
    "- $\\hat{h}(P + Q) + \\hat{h}(P - Q) = 2\\hat{h}(P) + 2\\hat{h}(Q)$\n",
    "- $\\hat{h}(P) = 0 \\iff P - $ torsion point \n",
    "\n",
    "\n",
    "## Silverman bounds\n",
    "\n",
    "$-\\frac{1}{8}h(j) - \\frac{1}{12}h(\\Delta) - 0.973 \\le \\hat{h}(P) - \\frac{1}{2}h(P) \\le \\frac{1}{12}h(j) + \\frac{1}{12}h(\\Delta) + 1.07$\n",
    "\n",
    "$\\Delta = -16(4A^3 + 27B^2),\\ j=-1728(4A)^3/\\Delta$"
   ]
  },
  {
   "cell_type": "code",
   "execution_count": 31,
   "metadata": {},
   "outputs": [],
   "source": [
    "def Hn(x):\n",
    "    return max(abs(x.numerator()), abs(x.denominator()))\n",
    "\n",
    "def hn(x):\n",
    "    return log(H(x))\n",
    "\n",
    "def H(P):\n",
    "    if P == 0:\n",
    "        return 1\n",
    "    x = P[0]\n",
    "    return Hn(x)\n",
    "\n",
    "def h(P):\n",
    "    return log(H(P[0]))\n",
    "\n",
    "def canonical_h(P, bound=10):\n",
    "    return h(2^bound * P) / 4^bound / 2\n",
    "\n",
    "def canonical_h_iter(P, bound=10):\n",
    "    P, P1 = P, P\n",
    "    h_res = h(P).n()\n",
    "    for j in range(1, bound+1):\n",
    "        P, P1 = P1, 2 * P1\n",
    "        h_res += (h(P1).n() - 4 * h(P).n()) / 4^j\n",
    "    return h_res / 2\n",
    "\n",
    "def silverman_bounds(E):\n",
    "    A, B = E.a4(), E.a6()\n",
    "    delta = -16 * (4 * A^3 + 27*B^3)\n",
    "    j = -1728 * (4 * A)^3 / delta\n",
    "    left_bound = -hn(j) / 8  - hn(delta) / 12 - 0.973\n",
    "    right_bound = hn(j) / 12 + hn(delta) / 12 + 1.07\n",
    "    return (left_bound.n(), right_bound.n())"
   ]
  },
  {
   "cell_type": "code",
   "execution_count": 42,
   "metadata": {},
   "outputs": [
    {
     "name": "stdout",
     "output_type": "stream",
     "text": [
      "(-3.05613254016752, 2.84251920894402)\n",
      "0.949740962343202\n",
      "0.949740926308764\n",
      "0.000000000000000\n"
     ]
    }
   ],
   "source": [
    "E = EllipticCurve(QQ, [-25, 0])\n",
    "print(silverman_bounds(E))\n",
    "\n",
    "P = E((-4, 6))\n",
    "print(canonical_h(P).n())\n",
    "print(canonical_h_iter(P, 9).n())\n",
    "\n",
    "\n",
    "P = E((5, 0)) # torsion\n",
    "print(canonical_h(P).n())"
   ]
  },
  {
   "cell_type": "code",
   "execution_count": null,
   "metadata": {},
   "outputs": [],
   "source": []
  }
 ],
 "metadata": {
  "kernelspec": {
   "display_name": "SageMath 9.0",
   "language": "sage",
   "name": "sagemath"
  },
  "language_info": {
   "codemirror_mode": {
    "name": "ipython",
    "version": 3
   },
   "file_extension": ".py",
   "mimetype": "text/x-python",
   "name": "python",
   "nbconvert_exporter": "python",
   "pygments_lexer": "ipython3",
   "version": "3.7.3"
  }
 },
 "nbformat": 4,
 "nbformat_minor": 2
}
