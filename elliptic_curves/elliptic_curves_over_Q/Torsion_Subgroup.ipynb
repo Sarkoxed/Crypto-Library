{
 "cells": [
  {
   "cell_type": "markdown",
   "metadata": {},
   "source": [
    "# Torsion subgroup of E(Q)\n",
    "\n",
    "\n",
    "## Lutz-Nagell theorem\n",
    "\n",
    "$E: y^2 = x^3 + A * x + B$, $A, B \\in \\mathbb{Z}$, $P = (x, y) \\in E(Q)$.\n",
    "\n",
    "$ord(P) < \\inf \\implies x, y \\in \\mathbb{Z}$\n",
    "\n",
    "$y \\ne 0 \\implies y^2 | 4 * A^3 + 27 * B^2$\n",
    "\n",
    "\n",
    "## Mazur's theorem\n",
    "\n",
    "P - torsion point:\n",
    "$ord(P) <= 12$"
   ]
  },
  {
   "cell_type": "code",
   "execution_count": 75,
   "metadata": {},
   "outputs": [],
   "source": [
    "def torsion_2_points(E):\n",
    "    A, B = E.a4(), E.a6()\n",
    "    x = var('x')\n",
    "    Pr = PolynomialRing(QQ, x)\n",
    "    roots = Pr(x^3 + A * x + B).roots(multiplicities=False) # assume not singular\n",
    "    return [E((r, 0)) for r in roots]\n",
    "\n",
    "# get possible torsion points(known factorization)\n",
    "def lutz_nagell(E):\n",
    "    A, B = E.a4(), E.a6()\n",
    "    delt = 4 * A^3 + 27 * B^2\n",
    "    desired = delt / delt.squarefree_part()\n",
    "    possible_ys = divisors(sqrt(desired))\n",
    "    \n",
    "    x = var('x')\n",
    "    Pr = PolynomialRing(QQ, x)\n",
    "    rational_points = []\n",
    "    for y in possible_ys:\n",
    "        roots = Pr(x^3 + A * x + B - y^2).roots(multiplicities=False)\n",
    "        for tmp_x in roots:\n",
    "            rational_points.append(E((tmp_x, y)))\n",
    "            rational_points.append(E((tmp_x, -y)))\n",
    "    return rational_points\n",
    "\n",
    "def is_torsion_point_mazur(P):\n",
    "    P0 = P\n",
    "    for i in range(1, 12 + 1):\n",
    "        if P0 == 0:\n",
    "            return True, i\n",
    "        elif not (P0[0] in ZZ or P0[1] in ZZ):\n",
    "            return False, None\n",
    "        P0 += P"
   ]
  },
  {
   "cell_type": "code",
   "execution_count": 76,
   "metadata": {},
   "outputs": [
    {
     "name": "stdout",
     "output_type": "stream",
     "text": [
      "sub_2 = []\n",
      "ptp = [(0 : 2 : 1), (0 : -2 : 1)]\n",
      "[(True, 3), (True, 3)]\n"
     ]
    }
   ],
   "source": [
    "E = EllipticCurve(QQ, [0, 4])\n",
    "\n",
    "sub_2 = torsion_2_points(E)\n",
    "print(f\"sub_2 = {sub_2}\")\n",
    "ptp = lutz_nagell(E)\n",
    "print(f\"ptp = {ptp}\")\n",
    "print([is_torsion_point_mazur(P) for P in ptp])\n",
    "assert all(P * 3 == 0 for P in ptp)"
   ]
  },
  {
   "cell_type": "code",
   "execution_count": 77,
   "metadata": {},
   "outputs": [
    {
     "name": "stdout",
     "output_type": "stream",
     "text": [
      "sub_2 = [(-2 : 0 : 1)]\n",
      "ptp = [(1 : 3 : 1), (1 : -3 : 1), (2 : 4 : 1), (2 : -4 : 1)]\n",
      "(-7/4 : -13/8 : 1)\n",
      "(-7/4 : -13/8 : 1)\n",
      "\n",
      "(1 : 3 : 1) (False, None)\n",
      "(1 : -3 : 1) (False, None)\n",
      "(2 : 4 : 1) (False, None)\n",
      "(2 : -4 : 1) (False, None)\n"
     ]
    }
   ],
   "source": [
    "E = EllipticCurve(QQ, [0, 8])\n",
    "sub_2 = torsion_2_points(E)\n",
    "print(f\"sub_2 = {sub_2}\")\n",
    "ptp = lutz_nagell(E)\n",
    "print(f\"ptp = {ptp}\")\n",
    "\n",
    "P1, P2, P3, P4 = ptp\n",
    "print(P1 * 2)\n",
    "print(P4 * 2)\n",
    "assert P1 != P4\n",
    "\n",
    "print()\n",
    "for P in ptp:\n",
    "    print(P, is_torsion_point_mazur(P))"
   ]
  },
  {
   "cell_type": "markdown",
   "metadata": {},
   "source": [
    "$E: y^2 = x^3 + A * x + B$, $A, B \\in \\mathbb{Z}$, $p$ - prime, $4A^3 + 27B^2 \\ne 0 \\pmod{p}$\n",
    "\n",
    "$\\rho_p: E(Q) \\to E(F_p)$\n",
    "\n",
    "if $P \\in E(Q)$ has finite order and $ \\rho_p(P) = \\inf \\implies P = \\inf$"
   ]
  },
  {
   "cell_type": "code",
   "execution_count": 79,
   "metadata": {},
   "outputs": [],
   "source": [
    "def torsion_subgroup_order(E, bound=1000):\n",
    "    A, B = E.a4(), E.a6()\n",
    "    delt = 4 * A^3 + 27 * B^2\n",
    "    torsion_order = None\n",
    "    for p in prime_range(bound):\n",
    "        if delt % p == 0:\n",
    "            continue\n",
    "        E1 = E.change_ring(GF(p))\n",
    "        N1 = E1.order()\n",
    "        if torsion_order is None:\n",
    "            torsion_order = N1\n",
    "        else:\n",
    "            torsion_order = gcd(torsion_order, N1)\n",
    "    return torsion_order"
   ]
  },
  {
   "cell_type": "code",
   "execution_count": 80,
   "metadata": {},
   "outputs": [
    {
     "name": "stdout",
     "output_type": "stream",
     "text": [
      "Probable order: 3\n",
      "Probable order: 2\n"
     ]
    }
   ],
   "source": [
    "E1 = EllipticCurve(QQ, [0, 4])\n",
    "print(f\"Probable order: {torsion_subgroup_order(E1)}\")\n",
    "\n",
    "E2 = EllipticCurve(QQ, [0, 8])\n",
    "print(f\"Probable order: {torsion_subgroup_order(E2)}\")"
   ]
  }
 ],
 "metadata": {
  "kernelspec": {
   "display_name": "SageMath 9.0",
   "language": "sage",
   "name": "sagemath"
  },
  "language_info": {
   "codemirror_mode": {
    "name": "ipython",
    "version": 3
   },
   "file_extension": ".py",
   "mimetype": "text/x-python",
   "name": "python",
   "nbconvert_exporter": "python",
   "pygments_lexer": "ipython3",
   "version": "3.7.3"
  }
 },
 "nbformat": 4,
 "nbformat_minor": 2
}
