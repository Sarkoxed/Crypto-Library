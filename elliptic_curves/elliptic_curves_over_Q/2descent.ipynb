{
 "cells": [
  {
   "cell_type": "markdown",
   "metadata": {},
   "source": [
    "# 2-Descent\n",
    "\n",
    "$y^2 = (x - e_1) (x - e_2) (x - e_3)$\n",
    "\n",
    "$$x - e_1 = a u^2\\\\ x - e_2 = b v^2\\\\ x - e_3 = c w^2$$\n",
    "\n",
    "$$ y^2 = a b c (u v w)^2$$ $a, b, c$ - square-free, $e_1, e_2, e_3 \\in \\mathbb{Z}$ or can be transformed from $\\mathbb{Q} \\to \\mathbb{Z}$\n",
    "\n",
    "$S = \\{p |p$  - is prime $, p | (e_1 - e_2)(e_1 - e_3)(e_2 - e_3)$\n",
    "\n",
    "\n",
    "$$\\phi: E(Q) \\to (Q^{\\times} / Q^{\\times^2}$)^3 \\\\ \\phi(e_1, 0) = ((e_1 - e_2)(e_1-e_3), e_1 - e_2, e_1 - e_3)\\\\ \\phi(e_2, 0) = (e_2 - e_1, (e_2 - e_1) (e_2 - e_3), e_2 - e_3)\\\\ \\phi(e_3, 0) = (e_3 - e_1, e_3 - e_2, (e_3 - e_1)(e_3 - e_2))\\\\ \\phi(\\inf) = (1, 1, 1)\\\\ \\phi(x, y) = (x - e_1, x - e_2, x - e_3)$$\n",
    "\n",
    "homomorphism, $Ker(\\phi) = 2E(Q)$"
   ]
  },
  {
   "cell_type": "code",
   "execution_count": 23,
   "metadata": {},
   "outputs": [],
   "source": [
    "def get_all_triples(E):\n",
    "    A, B = E.a4(), E.a6()\n",
    "    x = var('x')\n",
    "    Pr = PolynomialRing(QQ, x)\n",
    "    e3, e2, e1 = Pr(x^3 + A * x + B).roots(multiplicities=False) # e1 < e2 < e3\n",
    "    tmp = (e1 - e2) *  (e1 - e3) * (e2 - e3)\n",
    "    S = divisors(product(ZZ(tmp).prime_divisors()))\n",
    "    \n",
    "    triples = []\n",
    "    for a in S:   \n",
    "        for b in S:\n",
    "            triples.append((a, b, (a * b).squarefree_part()))\n",
    "            triples.append((-a, -b, (a * b).squarefree_part()))\n",
    "    return (e1, e2, e3), triples\n",
    "\n",
    "def phi(P, es):\n",
    "    e1, e2, e3 = es\n",
    "    \n",
    "    if P == 0:\n",
    "        res = (1, 1, 1)\n",
    "    elif P[0] == e1:\n",
    "        res ((e1 - e2) * (e1 - e3), e1 - e2, e1 - e3)\n",
    "    elif P[0] == e2:\n",
    "        res (e2 - e1, (e2 - e1) * (e2 - e3), e2 - e3)\n",
    "    elif P[0] == e3:\n",
    "        res (e3 - e1, e3 - e2, (e3 - e1) * (e3 - e2))\n",
    "    else:\n",
    "        res = (P[0] - e1, P[0] - e2, P[0] - e3)\n",
    "    return (res[0].squarefree_part(), res[1].squarefree_part(), res[2].squarefree_part())\n",
    "\n",
    "# TODO: extend to the K/Q - finite extension, Ok - ring of algebraic integers"
   ]
  },
  {
   "cell_type": "code",
   "execution_count": 28,
   "metadata": {},
   "outputs": [
    {
     "name": "stdout",
     "output_type": "stream",
     "text": [
      "(1, -1, -1)\n",
      "(1, 1, 1)\n"
     ]
    }
   ],
   "source": [
    "E = EllipticCurve(QQ, [-25, 0])\n",
    "P = E((-4, 6))\n",
    "es, _ = get_all_triples(E)\n",
    "print(phi(P, es))\n",
    "\n",
    "assert 2 * P != 0\n",
    "unit = phi(2 * P, es)\n",
    "print(unit)"
   ]
  },
  {
   "cell_type": "code",
   "execution_count": null,
   "metadata": {},
   "outputs": [],
   "source": []
  }
 ],
 "metadata": {
  "kernelspec": {
   "display_name": "SageMath 9.0",
   "language": "sage",
   "name": "sagemath"
  },
  "language_info": {
   "codemirror_mode": {
    "name": "ipython",
    "version": 3
   },
   "file_extension": ".py",
   "mimetype": "text/x-python",
   "name": "python",
   "nbconvert_exporter": "python",
   "pygments_lexer": "ipython3",
   "version": "3.7.3"
  }
 },
 "nbformat": 4,
 "nbformat_minor": 2
}
